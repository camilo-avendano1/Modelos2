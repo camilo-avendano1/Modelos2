{
  "cells": [
    {
      "cell_type": "markdown",
      "metadata": {
        "id": "view-in-github",
        "colab_type": "text"
      },
      "source": [
        "<a href=\"https://colab.research.google.com/github/camilo-avendano1/Modelos2/blob/main/Sesi%C3%B3n_pr%C3%A1ctica_MLP_2023_02.ipynb\" target=\"_parent\"><img src=\"https://colab.research.google.com/assets/colab-badge.svg\" alt=\"Open In Colab\"/></a>"
      ]
    },
    {
      "cell_type": "markdown",
      "source": [
        "<a href=\"https://colab.research.google.com/github/mariabda2/ML_2022/blob/main/clases/clase_16_Redes_Neuronales_Recurrentes.ipynb\" target=\"_parent\"><img src=\"https://colab.research.google.com/assets/colab-badge.svg\" alt=\"Open In Colab\"/></a>"
      ],
      "metadata": {
        "id": "sh5Q2uO5r06Y"
      }
    },
    {
      "cell_type": "markdown",
      "source": [
        "\n",
        "# **REDES NEURONALES - PERCEPTRÓN MULTICAPA**\n",
        "Comparación de métodos basados en árboles"
      ],
      "metadata": {
        "id": "LguD0h6u13Cd"
      }
    },
    {
      "cell_type": "code",
      "source": [
        "#@title **Nombres y apellidos del estudiante**\n",
        "Estudiante ='juan camilo avenda\\xF1o rodriguez' #@param {type:\"string\"}"
      ],
      "metadata": {
        "cellView": "form",
        "id": "Z0Kyx9q51u-1"
      },
      "execution_count": 1,
      "outputs": []
    },
    {
      "cell_type": "code",
      "source": [
        "from google.colab import drive\n",
        "drive.mount('/content/drive')"
      ],
      "metadata": {
        "colab": {
          "base_uri": "https://localhost:8080/"
        },
        "id": "C5VpudCA5Tvw",
        "outputId": "91a27da3-7e6b-4fdf-efb8-473d53242ec3"
      },
      "execution_count": 2,
      "outputs": [
        {
          "output_type": "stream",
          "name": "stdout",
          "text": [
            "Mounted at /content/drive\n"
          ]
        }
      ]
    },
    {
      "cell_type": "markdown",
      "metadata": {
        "id": "SIyPCtR3odtm"
      },
      "source": [
        "Este ejercicio tiene como objetivo implementar una red neuronal artificial de tipo perceptrón multicapa (MLP) para resolver un problema de regresión. Usaremos la librería sklearn. Consulte todo lo relacionado con la definición de hiperparámetros, los métodos para el entrenamiento y la predicción de nuevas muestras en el siguiente enlace: http://scikit-learn.org/stable/modules/generated/sklearn.neural_network.MLPRegressor.html#sklearn.neural_network.MLPRegressor"
      ]
    },
    {
      "cell_type": "code",
      "source": [
        "import numpy as np\n",
        "import pandas as pd\n",
        "import seaborn as sns\n",
        "\n",
        "from sklearn.decomposition import PCA\n",
        "from sklearn.model_selection import ShuffleSplit\n",
        "from sklearn.model_selection import StratifiedKFold\n",
        "from sklearn.metrics import mean_absolute_percentage_error\n",
        "from sklearn.neural_network import MLPRegressor\n",
        "from sklearn.neural_network import MLPClassifier\n",
        "from sklearn.datasets import load_digits\n",
        "from sklearn.preprocessing import StandardScaler\n",
        "from sklearn.metrics import accuracy_score"
      ],
      "metadata": {
        "id": "gsnvCENrDavc"
      },
      "execution_count": 3,
      "outputs": []
    },
    {
      "cell_type": "markdown",
      "metadata": {
        "id": "dAVPFqINodtn"
      },
      "source": [
        "Para este ejercicio usaremos la base de datos sobre calidad del aire, abordando **un problema de múltiples salidas**."
      ]
    },
    {
      "cell_type": "code",
      "execution_count": 5,
      "metadata": {
        "id": "S1ILV7RModtn"
      },
      "outputs": [],
      "source": [
        "#cargamos la bd que está en un archivo .data y ahora la podemos manejar de forma matricial\n",
        "db = np.loadtxt('/content/AirQuality.data',delimiter='\\t')\n",
        "\n",
        "#Esta es la base de datos AirQuality del UCI Machine Learning Repository. En la siguiente URL se encuentra toda\n",
        "#la descripción de la base de datos y la contextualización del problema.\n",
        "#https://archive.ics.uci.edu/ml/datasets/Air+Quality#\n",
        "\n",
        "x = db[:,0:11]\n",
        "y = db[:,11:13]"
      ]
    },
    {
      "cell_type": "markdown",
      "metadata": {
        "id": "qKlFuQyRodtp"
      },
      "source": [
        "Para calcular los errores, vamos a explorar y usar el [módulo de métricas den sklearn](https://scikit-learn.org/stable/modules/classes.html#module-sklearn.metrics).\n",
        "\n",
        "Podemos observar que el módulo tiene métricas para regresión y clasificación."
      ]
    },
    {
      "cell_type": "markdown",
      "metadata": {
        "id": "EFIUq69Modtp"
      },
      "source": [
        "# **MLP para regresión**\n",
        "\n",
        "Para porder implementar nuestra función, lo primero que debemos entender la estrucutra de la red.\n",
        "\n",
        "Como mencionamos, vamos a solucionar un problema de multiples salidas. Estas salidas con valores continuos. Por lo tanto debemos garantizar que la capa de salida de nuestra red tenga la capacidad de modelar este tipo de datos.\n",
        "\n",
        "Una característica de los modelos de sklearn, es que ciertos tipos de atributos, sólo pueden ser accedidos cuanto se entrena el modelo.\n",
        "* `MLPRegressor` hace parte de `sklearn.neural_network`"
      ]
    },
    {
      "cell_type": "code",
      "execution_count": 6,
      "metadata": {
        "id": "p0ybj-1vodtv",
        "colab": {
          "base_uri": "https://localhost:8080/"
        },
        "outputId": "bb92a392-85f2-480b-f0a1-ddfd41d5570d"
      },
      "outputs": [
        {
          "output_type": "stream",
          "name": "stdout",
          "text": [
            "relu\n",
            "identity\n",
            "logistic\n",
            "identity\n"
          ]
        }
      ],
      "source": [
        "# MLP A\n",
        "mlp = MLPRegressor()\n",
        "xrandom = np.random.rand(10,2)\n",
        "yrandom = np.zeros(10)\n",
        "mlp.fit(X=xrandom, y=yrandom)\n",
        "print(mlp.activation)\n",
        "print(mlp.out_activation_)\n",
        "\n",
        "# MLP B\n",
        "mlp = MLPRegressor(activation='logistic')\n",
        "xrandom = np.random.rand(10,2)\n",
        "yrandom = np.zeros(10)\n",
        "mlp.fit(X=xrandom, y=yrandom)\n",
        "print(mlp.activation)\n",
        "print(mlp.out_activation_)"
      ]
    },
    {
      "cell_type": "markdown",
      "metadata": {
        "id": "udcddNBiodtz"
      },
      "source": [
        "Una vez entendido como sklearn usa las funciones de activación, vamos a crear la función para realizar los experimentos.\n",
        "\n",
        "Vamos a completar la función con el código necesario para usar una red neuronal tipo MLP para solucionar el problema de regresión propuesto.\n",
        "1. Como función de activación en las capas ocultas use la función 'tanh'.\n",
        "2. Ajuste el número máximo de épocas a 300.\n",
        "3. Dejamos como variables el número de capas ocultas y el número de neuronas por capa.\n",
        "5. debemos seleccionar la función adecuada del [modulo de sklearn para calcular el Error Porcentual Absoluto Medio (MAPE en sigla en ingles)](https://scikit-learn.org/stable/modules/classes.html?highlight=metrics#module-sklearn.metrics). Tener en cuenta qué parámetros usar.\n",
        "6. Debemos usar los nombres explícitos, por ejemplo si para el MLP es necesario usar el parámetro `activation`, debe ser llamado: `MLPRegressor(activation=...)`\n",
        "7. Explorar qué hace la siguiente linea de código `tuple(2*[100])`\n",
        "\n",
        "**NOTA**: observe el  parámetro `random_state=1` por favor conservarlo, ya que esto hace que los resultados sean similares a lo largo de las ejecuciones.\n",
        "* `ShuffleSplit` hace parte de `sklearn.model_selection`\n",
        "* `mean_absolute_error` hace parte de `sklearn.metrics`"
      ]
    },
    {
      "cell_type": "code",
      "execution_count": 8,
      "metadata": {
        "id": "y-SdZ9H_odt0"
      },
      "outputs": [],
      "source": [
        "# ejercicio de código\n",
        "def experimetar_mlp(num_hidden_layers, num_neurons, X,Y):\n",
        "    \"\"\" función para realizar experimentos con el MLP\n",
        "    x: matriz de numpy con caracteristicas\n",
        "    y: vector numpy con las variables a predecir\n",
        "    num_hidden_layers: list de enteros con el numero de capdas\n",
        "        ocultas a usar\n",
        "    num_neurons: list de enteros con el numero de neuronas a usar\n",
        "\n",
        "    Retorna: dataframe con 6 columnas:\n",
        "        - numero de capas, numero de neuronas\n",
        "        - promedio de error prueba variable 1 y desviación estandar\n",
        "        - promedio de error prueba variable 2 y desviación estandar\n",
        "\n",
        "    \"\"\"\n",
        "    #Validamos el modelo\n",
        "    Folds = 3\n",
        "    ss = ShuffleSplit(n_splits=Folds, test_size=0.2, random_state = 1)\n",
        "    resultados = pd.DataFrame()\n",
        "    idx = 0\n",
        "    for hidden_layers in num_hidden_layers:\n",
        "        for neurons in num_neurons:\n",
        "            for j, (train, test) in enumerate(ss.split(X)):\n",
        "                # para almacenar errores intermedios\n",
        "                ErrorY1 = np.zeros(Folds)\n",
        "                ErrorY2 = np.zeros(Folds)\n",
        "                Xtrain= X[train,:]\n",
        "                Ytrain = Y[train,:]\n",
        "                Xtest = X[test,:]\n",
        "                Ytest = Y[test,:]\n",
        "                #Normalizamos los datos\n",
        "                scaler = StandardScaler().fit(Xtrain)\n",
        "                Xtrain = scaler.transform(Xtrain)\n",
        "                Xtest = scaler.transform(Xtest)\n",
        "                #Haga el llamado a la función para crear y entrenar el modelo usando los datos de entrenamiento\n",
        "                # prestar atención a los parametros, correctos.\n",
        "                hidden_layer_sizes = tuple([neurons] *hidden_layers)\n",
        "                mlp = MLPRegressor(hidden_layer_sizes=hidden_layer_sizes, max_iter=300, activation='tanh', random_state=1)\n",
        "                mlp.fit(Xtrain, Ytrain)\n",
        "                #Use para el modelo para hacer predicciones sobre el conjunto Xtest\n",
        "                Yest = mlp.predict(Xtest)\n",
        "                #Error absoluto medio para cada una de las dos salidas\n",
        "                errors = mean_absolute_percentage_error(y_true=Ytest, y_pred =Yest, multioutput='raw_values')\n",
        "                ErrorY1[j] = errors[0]\n",
        "                ErrorY2[j] = errors[1]\n",
        "\n",
        "            print('error para salida 1 = ' + str(np.mean(ErrorY1)) + '+-' + str(np.std(ErrorY1)))\n",
        "            print('error para 2 = ' + str(np.mean(ErrorY2)) + '+-' + str(np.std(ErrorY2)))\n",
        "\n",
        "            resultados.loc[idx,'capas ocultas'] = hidden_layers\n",
        "            resultados.loc[idx,'neuronas en capas ocultas'] = neurons\n",
        "            resultados.loc[idx,'error de prueba y1(media)'] = np.mean(ErrorY1)\n",
        "            resultados.loc[idx,'intervalo de confianza y1'] = np.std(ErrorY1)\n",
        "            resultados.loc[idx,'error de prueba y2(media)'] = np.mean(ErrorY2)\n",
        "            resultados.loc[idx,'intervalo de confianza y2'] = np.std(ErrorY2)\n",
        "            idx+=1\n",
        "    return (resultados)"
      ]
    },
    {
      "cell_type": "markdown",
      "metadata": {
        "id": "QXCQp7oJw9gd"
      },
      "source": [
        "vamos a realizar los experimentos"
      ]
    },
    {
      "cell_type": "code",
      "execution_count": 9,
      "metadata": {
        "id": "hV-ka-ukodt3",
        "colab": {
          "base_uri": "https://localhost:8080/"
        },
        "outputId": "aa408817-0a7c-4cbd-a14b-65a192af8d57"
      },
      "outputs": [
        {
          "output_type": "stream",
          "name": "stderr",
          "text": [
            "/usr/local/lib/python3.10/dist-packages/sklearn/neural_network/_multilayer_perceptron.py:686: ConvergenceWarning: Stochastic Optimizer: Maximum iterations (300) reached and the optimization hasn't converged yet.\n",
            "  warnings.warn(\n",
            "/usr/local/lib/python3.10/dist-packages/sklearn/neural_network/_multilayer_perceptron.py:686: ConvergenceWarning: Stochastic Optimizer: Maximum iterations (300) reached and the optimization hasn't converged yet.\n",
            "  warnings.warn(\n",
            "/usr/local/lib/python3.10/dist-packages/sklearn/neural_network/_multilayer_perceptron.py:686: ConvergenceWarning: Stochastic Optimizer: Maximum iterations (300) reached and the optimization hasn't converged yet.\n",
            "  warnings.warn(\n"
          ]
        },
        {
          "output_type": "stream",
          "name": "stdout",
          "text": [
            "error para salida 1 = 0.05494029267410518+-0.07769730702046675\n",
            "error para 2 = 2.3035489072078175+-3.257710106163018\n"
          ]
        },
        {
          "output_type": "stream",
          "name": "stderr",
          "text": [
            "/usr/local/lib/python3.10/dist-packages/sklearn/neural_network/_multilayer_perceptron.py:686: ConvergenceWarning: Stochastic Optimizer: Maximum iterations (300) reached and the optimization hasn't converged yet.\n",
            "  warnings.warn(\n",
            "/usr/local/lib/python3.10/dist-packages/sklearn/neural_network/_multilayer_perceptron.py:686: ConvergenceWarning: Stochastic Optimizer: Maximum iterations (300) reached and the optimization hasn't converged yet.\n",
            "  warnings.warn(\n",
            "/usr/local/lib/python3.10/dist-packages/sklearn/neural_network/_multilayer_perceptron.py:686: ConvergenceWarning: Stochastic Optimizer: Maximum iterations (300) reached and the optimization hasn't converged yet.\n",
            "  warnings.warn(\n"
          ]
        },
        {
          "output_type": "stream",
          "name": "stdout",
          "text": [
            "error para salida 1 = 0.04964198413271201+-0.0702043672235913\n",
            "error para 2 = 2.288764714877964+-3.2368021008614063\n"
          ]
        },
        {
          "output_type": "stream",
          "name": "stderr",
          "text": [
            "/usr/local/lib/python3.10/dist-packages/sklearn/neural_network/_multilayer_perceptron.py:686: ConvergenceWarning: Stochastic Optimizer: Maximum iterations (300) reached and the optimization hasn't converged yet.\n",
            "  warnings.warn(\n",
            "/usr/local/lib/python3.10/dist-packages/sklearn/neural_network/_multilayer_perceptron.py:686: ConvergenceWarning: Stochastic Optimizer: Maximum iterations (300) reached and the optimization hasn't converged yet.\n",
            "  warnings.warn(\n",
            "/usr/local/lib/python3.10/dist-packages/sklearn/neural_network/_multilayer_perceptron.py:686: ConvergenceWarning: Stochastic Optimizer: Maximum iterations (300) reached and the optimization hasn't converged yet.\n",
            "  warnings.warn(\n"
          ]
        },
        {
          "output_type": "stream",
          "name": "stdout",
          "text": [
            "error para salida 1 = 0.03912619726226461+-0.05533279881237968\n",
            "error para 2 = 1.1681283933502833+-1.651983016469064\n"
          ]
        },
        {
          "output_type": "stream",
          "name": "stderr",
          "text": [
            "/usr/local/lib/python3.10/dist-packages/sklearn/neural_network/_multilayer_perceptron.py:686: ConvergenceWarning: Stochastic Optimizer: Maximum iterations (300) reached and the optimization hasn't converged yet.\n",
            "  warnings.warn(\n",
            "/usr/local/lib/python3.10/dist-packages/sklearn/neural_network/_multilayer_perceptron.py:686: ConvergenceWarning: Stochastic Optimizer: Maximum iterations (300) reached and the optimization hasn't converged yet.\n",
            "  warnings.warn(\n",
            "/usr/local/lib/python3.10/dist-packages/sklearn/neural_network/_multilayer_perceptron.py:686: ConvergenceWarning: Stochastic Optimizer: Maximum iterations (300) reached and the optimization hasn't converged yet.\n",
            "  warnings.warn(\n"
          ]
        },
        {
          "output_type": "stream",
          "name": "stdout",
          "text": [
            "error para salida 1 = 0.041796589071809616+-0.05910930312628826\n",
            "error para 2 = 1.5148277026141406+-2.1422898816953952\n"
          ]
        },
        {
          "output_type": "stream",
          "name": "stderr",
          "text": [
            "/usr/local/lib/python3.10/dist-packages/sklearn/neural_network/_multilayer_perceptron.py:686: ConvergenceWarning: Stochastic Optimizer: Maximum iterations (300) reached and the optimization hasn't converged yet.\n",
            "  warnings.warn(\n",
            "/usr/local/lib/python3.10/dist-packages/sklearn/neural_network/_multilayer_perceptron.py:686: ConvergenceWarning: Stochastic Optimizer: Maximum iterations (300) reached and the optimization hasn't converged yet.\n",
            "  warnings.warn(\n",
            "/usr/local/lib/python3.10/dist-packages/sklearn/neural_network/_multilayer_perceptron.py:686: ConvergenceWarning: Stochastic Optimizer: Maximum iterations (300) reached and the optimization hasn't converged yet.\n",
            "  warnings.warn(\n"
          ]
        },
        {
          "output_type": "stream",
          "name": "stdout",
          "text": [
            "error para salida 1 = 0.03952065247307942+-0.05589064272126271\n",
            "error para 2 = 1.9538747891696895+-2.7631962260226466\n"
          ]
        },
        {
          "output_type": "stream",
          "name": "stderr",
          "text": [
            "/usr/local/lib/python3.10/dist-packages/sklearn/neural_network/_multilayer_perceptron.py:686: ConvergenceWarning: Stochastic Optimizer: Maximum iterations (300) reached and the optimization hasn't converged yet.\n",
            "  warnings.warn(\n",
            "/usr/local/lib/python3.10/dist-packages/sklearn/neural_network/_multilayer_perceptron.py:686: ConvergenceWarning: Stochastic Optimizer: Maximum iterations (300) reached and the optimization hasn't converged yet.\n",
            "  warnings.warn(\n",
            "/usr/local/lib/python3.10/dist-packages/sklearn/neural_network/_multilayer_perceptron.py:686: ConvergenceWarning: Stochastic Optimizer: Maximum iterations (300) reached and the optimization hasn't converged yet.\n",
            "  warnings.warn(\n"
          ]
        },
        {
          "output_type": "stream",
          "name": "stdout",
          "text": [
            "error para salida 1 = 0.03634624290885002+-0.05140134966300263\n",
            "error para 2 = 1.6746353803181362+-2.368292066875734\n"
          ]
        },
        {
          "output_type": "stream",
          "name": "stderr",
          "text": [
            "/usr/local/lib/python3.10/dist-packages/sklearn/neural_network/_multilayer_perceptron.py:686: ConvergenceWarning: Stochastic Optimizer: Maximum iterations (300) reached and the optimization hasn't converged yet.\n",
            "  warnings.warn(\n",
            "/usr/local/lib/python3.10/dist-packages/sklearn/neural_network/_multilayer_perceptron.py:686: ConvergenceWarning: Stochastic Optimizer: Maximum iterations (300) reached and the optimization hasn't converged yet.\n",
            "  warnings.warn(\n",
            "/usr/local/lib/python3.10/dist-packages/sklearn/neural_network/_multilayer_perceptron.py:686: ConvergenceWarning: Stochastic Optimizer: Maximum iterations (300) reached and the optimization hasn't converged yet.\n",
            "  warnings.warn(\n"
          ]
        },
        {
          "output_type": "stream",
          "name": "stdout",
          "text": [
            "error para salida 1 = 0.06171514336384779+-0.08727839274895348\n",
            "error para 2 = 2.2963026385629117+-3.247462334768793\n"
          ]
        },
        {
          "output_type": "stream",
          "name": "stderr",
          "text": [
            "/usr/local/lib/python3.10/dist-packages/sklearn/neural_network/_multilayer_perceptron.py:686: ConvergenceWarning: Stochastic Optimizer: Maximum iterations (300) reached and the optimization hasn't converged yet.\n",
            "  warnings.warn(\n",
            "/usr/local/lib/python3.10/dist-packages/sklearn/neural_network/_multilayer_perceptron.py:686: ConvergenceWarning: Stochastic Optimizer: Maximum iterations (300) reached and the optimization hasn't converged yet.\n",
            "  warnings.warn(\n",
            "/usr/local/lib/python3.10/dist-packages/sklearn/neural_network/_multilayer_perceptron.py:686: ConvergenceWarning: Stochastic Optimizer: Maximum iterations (300) reached and the optimization hasn't converged yet.\n",
            "  warnings.warn(\n"
          ]
        },
        {
          "output_type": "stream",
          "name": "stdout",
          "text": [
            "error para salida 1 = 0.037203616971060595+-0.052613859689807745\n",
            "error para 2 = 1.930878587156086+-2.730674685251937\n"
          ]
        },
        {
          "output_type": "stream",
          "name": "stderr",
          "text": [
            "/usr/local/lib/python3.10/dist-packages/sklearn/neural_network/_multilayer_perceptron.py:686: ConvergenceWarning: Stochastic Optimizer: Maximum iterations (300) reached and the optimization hasn't converged yet.\n",
            "  warnings.warn(\n",
            "/usr/local/lib/python3.10/dist-packages/sklearn/neural_network/_multilayer_perceptron.py:686: ConvergenceWarning: Stochastic Optimizer: Maximum iterations (300) reached and the optimization hasn't converged yet.\n",
            "  warnings.warn(\n"
          ]
        },
        {
          "output_type": "stream",
          "name": "stdout",
          "text": [
            "error para salida 1 = 0.03228489410762774+-0.04565773510678637\n",
            "error para 2 = 1.333615535856589+-1.8860171777998507\n"
          ]
        },
        {
          "output_type": "stream",
          "name": "stderr",
          "text": [
            "/usr/local/lib/python3.10/dist-packages/sklearn/neural_network/_multilayer_perceptron.py:686: ConvergenceWarning: Stochastic Optimizer: Maximum iterations (300) reached and the optimization hasn't converged yet.\n",
            "  warnings.warn(\n"
          ]
        }
      ],
      "source": [
        "# tarda unos minutos!!\n",
        "resultados_mlpr = experimetar_mlp(num_hidden_layers = [1,2,3], num_neurons  = [8,12,16], X=x, Y=y)"
      ]
    },
    {
      "cell_type": "code",
      "execution_count": 10,
      "metadata": {
        "id": "7insQmbOodt5",
        "colab": {
          "base_uri": "https://localhost:8080/",
          "height": 524
        },
        "outputId": "da341e0d-cd0f-4e57-8391-d25a15d8daaf"
      },
      "outputs": [
        {
          "output_type": "execute_result",
          "data": {
            "text/plain": [
              "<seaborn.axisgrid.FacetGrid at 0x7fc3924d7d90>"
            ]
          },
          "metadata": {},
          "execution_count": 10
        },
        {
          "output_type": "display_data",
          "data": {
            "text/plain": [
              "<Figure size 606.361x500 with 1 Axes>"
            ],
            "image/png": "[encoded data removed]"
          },
          "metadata": {}
        }
      ],
      "source": [
        "sns.relplot(data = resultados_mlpr,  x='neuronas en capas ocultas', y = 'error de prueba y1(media)', style= 'capas ocultas', kind = 'line')"
      ]
    },
    {
      "cell_type": "code",
      "source": [
        "#@title **Pregunta 1. Respuesta abierta**\n",
        "#@markdown ¿Cuál es el problema de modelado abordado en el ejercicio MLP regresión?\n",
        "respuesta_1 = \"el modelo nos da de respuesta las variables de respuesta la temperatura y la humedad relativa\" #@param {type:\"string\"}"
      ],
      "metadata": {
        "id": "__nR_TNb7lp5"
      },
      "execution_count": 11,
      "outputs": []
    },
    {
      "cell_type": "code",
      "source": [
        "#@title **Pregunta 2. Respuesta abierta**\n",
        "#@markdown ¿Cómo influyen las capas ocultas en el resultado del modelo?\n",
        "respuesta_2 = \"mejora el modelo pero solo si se usan mas neuronas, si se usan pocas tiende a subir el error\" #@param {type:\"string\"}"
      ],
      "metadata": {
        "id": "LuUqPLb275s0"
      },
      "execution_count": 12,
      "outputs": []
    },
    {
      "cell_type": "code",
      "source": [
        "#@title **Pregunta 3. Respuesta abierta**\n",
        "#@markdown ¿Cómo influyen el número de neuronas el resultado del modelo?\n",
        "respuesta_3 = \"el numero de neuronas tiene a mejorar siempre el modelo disminuyendo el error\" #@param {type:\"string\"}"
      ],
      "metadata": {
        "id": "GbtWj1aZ8u0o"
      },
      "execution_count": 13,
      "outputs": []
    },
    {
      "cell_type": "markdown",
      "metadata": {
        "id": "hY2yg06Nodt8"
      },
      "source": [
        "#**MLP para clasificación**\n",
        "\n",
        "A continuación se leen los datos de un problema de clasificación. El problema corresponde a la clasifiación de dígitos escritos a mano. Usaremos únicamente 4 de las 10 clases disponibles. Los datos fueron preprocesados para reducir el número de características. La técnica usada será analizada más adelante en el curso.\n",
        "\n",
        "* `load_digits` hace parte de `sklearn.datasets`\n",
        "* `PCA` hace parte de `sklearn.decomposition`"
      ]
    },
    {
      "cell_type": "code",
      "execution_count": 20,
      "metadata": {
        "id": "rQQrTIcZodt9"
      },
      "outputs": [],
      "source": [
        "digits = load_digits(n_class=4)\n",
        "#--------- preprocesamiento--------------------\n",
        "pca = PCA(0.99, whiten=True)\n",
        "data = pca.fit_transform(digits.data)\n",
        "#---------- Datos a usar ----------------------\n",
        "Xd = data\n",
        "Yd = digits.target"
      ]
    },
    {
      "cell_type": "markdown",
      "metadata": {
        "id": "q6VwPK9RoduA"
      },
      "source": [
        "como lo hicmos antes, vamos a comprobar con la libreria la función de activación\n",
        "* `MLPClassifier` hace parte de `sklearn.neural_network`"
      ]
    },
    {
      "cell_type": "code",
      "execution_count": 21,
      "metadata": {
        "id": "10TRJf1SoduB"
      },
      "outputs": [],
      "source": [
        "# ejercicio de código\n",
        "def output_activation_MPC():\n",
        "    \"\"\"funcion que entrena un modelo\n",
        "    con data aleatoria para confirmar la funcion\n",
        "    de activacion de la ultima capa\n",
        "    \"\"\"\n",
        "    mlp = MLPClassifier()\n",
        "    # fit with some random data\n",
        "    xrandom = np.random.rand(10,2)\n",
        "    yrandom = np.zeros(10)\n",
        "    # llamar el metodo adecuado para entrenar\n",
        "    # el mlp con los x y 'y' random\n",
        "    mlp.fit(xrandom, yrandom)\n",
        "    # retornar el atributo de mlp adecuado\n",
        "    return mlp.out_activation_"
      ]
    },
    {
      "cell_type": "code",
      "execution_count": 22,
      "metadata": {
        "id": "LR1AWh6doduE",
        "colab": {
          "base_uri": "https://localhost:8080/"
        },
        "outputId": "606cf896-5bbc-40ad-febc-5eb4c1428188"
      },
      "outputs": [
        {
          "output_type": "stream",
          "name": "stdout",
          "text": [
            "la función de activación para un problema de clasificación es: logistic\n"
          ]
        },
        {
          "output_type": "stream",
          "name": "stderr",
          "text": [
            "/usr/local/lib/python3.10/dist-packages/sklearn/neural_network/_multilayer_perceptron.py:686: ConvergenceWarning: Stochastic Optimizer: Maximum iterations (200) reached and the optimization hasn't converged yet.\n",
            "  warnings.warn(\n"
          ]
        }
      ],
      "source": [
        "print(\"la función de activación para un problema de clasificación es:\", output_activation_MPC())"
      ]
    },
    {
      "cell_type": "markdown",
      "metadata": {
        "id": "nUrb8sX1oduG"
      },
      "source": [
        "Ahora en nuestro siguiente ejercicio vamos a implementar una red neuronal artificial de tipo perceptrón multicapa (MLP) para resolver un problema de clasificación. Usaremos la librería sklearn. Consulte todo lo relacionado con la definición de hiperparámetros, los métodos para el entrenamiento y la predicción de nuevas muestras en el siguiente enlace: http://scikit-learn.org/stable/modules/generated/sklearn.neural_network.MLPClassifier.html#sklearn.neural_network.MLPClassifier"
      ]
    },
    {
      "cell_type": "markdown",
      "metadata": {
        "id": "RPXRYrtnoduG"
      },
      "source": [
        "\n",
        "Vamos completar la función con el código necesario para usar una red neuronal tipo MLP para solucionar el problema de clasificación propuesto.\n",
        "1. Como función de activación en las capas ocultas use la función tangencial hiperbólica.\n",
        "2. Ajuste el número máximo de épocas a 350.\n",
        "3. Dejamos como variables el número de capas ocultas y el número de neuronas por capa\n",
        "5. Seleccione la función adecuada del [modulo de sklearn para calcular la exactitud del clasificador](https://scikit-learn.org/stable/modules/classes.html?highlight=metrics#module-sklearn.metrics). Tener en cuenta que parametros usar.\n",
        "6. Debemos usar los nombres explicitos, por ejemplo si para el MLP es necesario usar el parametro `activation`, debe ser llamado: `MLPClassifier(activation=...)`\n",
        "\n",
        "**NOTA**: cuando observe el el parametro `random_state=1` por favor conservarlo, ya que esto hace que los resultados sean similares a lo largo de las ejecucciones.\n",
        "* `StratifiedKFold` hace parte de `sklearn.model_selection`\n",
        "* `StandardScaler` hace parte de `sklearn.preprocessing`"
      ]
    },
    {
      "cell_type": "code",
      "execution_count": 24,
      "metadata": {
        "id": "pO3RLo4JoduG"
      },
      "outputs": [],
      "source": [
        "# ejercicio de código\n",
        "def experimetar_mlpc(X,Y, num_hidden_layers, num_neurons):\n",
        "    \"\"\" función para realizar experimentos con el MLP\n",
        "    x: matriz de numpy con caracteristicas\n",
        "    y: vector numpy con las variables a predecir\n",
        "    num_hidden_layers: list de enteros con el numero de capdas\n",
        "        ocultas a usar\n",
        "    num_neurons: list de enteros con el numero de neuronas a usar\n",
        "\n",
        "    Retorna: dataframe con 4 columnas:\n",
        "        - numero de capas, numero de neuronas\n",
        "        - promedio de error prueba (exactitud/eficiencia) de claisficacion y desviación estandar\n",
        "    \"\"\"\n",
        "    #Validamos el modelo\n",
        "    Folds = 3\n",
        "    skf = StratifiedKFold(n_splits=Folds)\n",
        "    resultados = pd.DataFrame()\n",
        "    idx = 0\n",
        "    for hidden_layers in num_hidden_layers:\n",
        "        for neurons in num_neurons:\n",
        "            for j, (train, test) in enumerate(skf.split(X, Y)):\n",
        "                # para almacenar errores intermedios\n",
        "                Error = np.zeros(Folds)\n",
        "                Xtrain= X[train,:]\n",
        "                Ytrain = Y[train]\n",
        "                Xtest = X[test, :]\n",
        "                Ytest = Y[test]\n",
        "                #Normalizamos los datos\n",
        "                scaler = StandardScaler().fit(Xtrain)\n",
        "                Xtrain = scaler.transform(Xtrain)\n",
        "                Xtest = scaler.transform(Xtest)\n",
        "                #Haga el llamado a la función para crear y entrenar el modelo usando los datos de entrenamiento\n",
        "                # prestar atención a los parametros, correctos.\n",
        "                hidden_layer_sizes = tuple(hidden_layers*[neurons])\n",
        "                mlp = MLPClassifier(activation= 'tanh',hidden_layer_sizes=hidden_layer_sizes, max_iter=350, random_state = 1)\n",
        "                # entrenar el MLP\n",
        "                mlp.fit(Xtrain,Ytrain)\n",
        "                #Use para el modelo para hacer predicciones sobre el conjunto Xtest\n",
        "                Yest = mlp.predict(Xtest)\n",
        "                # recordar usar la medida adecuada de acuerdo a las instrucciones\n",
        "                Error[j] = accuracy_score(y_true = Ytest,  y_pred =Yest)\n",
        "\n",
        "\n",
        "            print('error para configuracion de params = ' + str(np.mean(Error)) + '+-' + str(np.std(Error)))\n",
        "\n",
        "            resultados.loc[idx,'capas ocultas'] = hidden_layers\n",
        "            resultados.loc[idx,'neuronas en capas ocultas'] = neurons\n",
        "            resultados.loc[idx,'error de prueba(media)'] = np.mean(Error)\n",
        "            resultados.loc[idx,'intervalo de confianza'] = np.std(Error)\n",
        "            idx+=1\n",
        "    return (resultados)"
      ]
    },
    {
      "cell_type": "code",
      "execution_count": 25,
      "metadata": {
        "id": "iCyR-W0RoduJ",
        "colab": {
          "base_uri": "https://localhost:8080/"
        },
        "outputId": "1e1a5bbe-7e5e-4d15-91d6-e29208bfde34"
      },
      "outputs": [
        {
          "output_type": "stream",
          "name": "stderr",
          "text": [
            "/usr/local/lib/python3.10/dist-packages/sklearn/neural_network/_multilayer_perceptron.py:686: ConvergenceWarning: Stochastic Optimizer: Maximum iterations (350) reached and the optimization hasn't converged yet.\n",
            "  warnings.warn(\n",
            "/usr/local/lib/python3.10/dist-packages/sklearn/neural_network/_multilayer_perceptron.py:686: ConvergenceWarning: Stochastic Optimizer: Maximum iterations (350) reached and the optimization hasn't converged yet.\n",
            "  warnings.warn(\n",
            "/usr/local/lib/python3.10/dist-packages/sklearn/neural_network/_multilayer_perceptron.py:686: ConvergenceWarning: Stochastic Optimizer: Maximum iterations (350) reached and the optimization hasn't converged yet.\n",
            "  warnings.warn(\n"
          ]
        },
        {
          "output_type": "stream",
          "name": "stdout",
          "text": [
            "error para configuracion de params = 0.3055555555555555+-0.4321208107251124\n",
            "error para configuracion de params = 0.30416666666666664+-0.43015662522181647\n",
            "error para configuracion de params = 0.30416666666666664+-0.43015662522181647\n",
            "error para configuracion de params = 0.3013888888888889+-0.42622825421522453\n",
            "error para configuracion de params = 0.30833333333333335+-0.43604918173170437\n",
            "error para configuracion de params = 0.30972222222222223+-0.4380133672350003\n",
            "error para configuracion de params = 0.30416666666666664+-0.43015662522181647\n",
            "error para configuracion de params = 0.2986111111111111+-0.4222998832086326\n",
            "error para configuracion de params = 0.3069444444444444+-0.43408499622840835\n"
          ]
        }
      ],
      "source": [
        "# tarda unos minutos!!\n",
        "resultados_mlpc = experimetar_mlpc(X = Xd, Y=Yd, num_hidden_layers=[1,2,3], num_neurons=[12,16,20])"
      ]
    },
    {
      "cell_type": "code",
      "execution_count": 26,
      "metadata": {
        "id": "W2ucrFG5otVn",
        "colab": {
          "base_uri": "https://localhost:8080/",
          "height": 331
        },
        "outputId": "95615487-47cd-480d-a532-33c944f6307f"
      },
      "outputs": [
        {
          "output_type": "execute_result",
          "data": {
            "text/plain": [
              "   capas ocultas  neuronas en capas ocultas  error de prueba(media)  \\\n",
              "0            1.0                       12.0                0.305556   \n",
              "1            1.0                       16.0                0.304167   \n",
              "2            1.0                       20.0                0.304167   \n",
              "3            2.0                       12.0                0.301389   \n",
              "4            2.0                       16.0                0.308333   \n",
              "5            2.0                       20.0                0.309722   \n",
              "6            3.0                       12.0                0.304167   \n",
              "7            3.0                       16.0                0.298611   \n",
              "8            3.0                       20.0                0.306944   \n",
              "\n",
              "   intervalo de confianza  \n",
              "0                0.432121  \n",
              "1                0.430157  \n",
              "2                0.430157  \n",
              "3                0.426228  \n",
              "4                0.436049  \n",
              "5                0.438013  \n",
              "6                0.430157  \n",
              "7                0.422300  \n",
              "8                0.434085  "
            ],
            "text/html": [
              "\n",
              "  <div id=\"df-1e719aff-cb94-49a0-ab60-e072fbc27cef\" class=\"colab-df-container\">\n",
              "    <div>\n",
              "<style scoped>\n",
              "    .dataframe tbody tr th:only-of-type {\n",
              "        vertical-align: middle;\n",
              "    }\n",
              "\n",
              "    .dataframe tbody tr th {\n",
              "        vertical-align: top;\n",
              "    }\n",
              "\n",
              "    .dataframe thead th {\n",
              "        text-align: right;\n",
              "    }\n",
              "</style>\n",
              "<table border=\"1\" class=\"dataframe\">\n",
              "  <thead>\n",
              "    <tr style=\"text-align: right;\">\n",
              "      <th></th>\n",
              "      <th>capas ocultas</th>\n",
              "      <th>neuronas en capas ocultas</th>\n",
              "      <th>error de prueba(media)</th>\n",
              "      <th>intervalo de confianza</th>\n",
              "    </tr>\n",
              "  </thead>\n",
              "  <tbody>\n",
              "    <tr>\n",
              "      <th>0</th>\n",
              "      <td>1.0</td>\n",
              "      <td>12.0</td>\n",
              "      <td>0.305556</td>\n",
              "      <td>0.432121</td>\n",
              "    </tr>\n",
              "    <tr>\n",
              "      <th>1</th>\n",
              "      <td>1.0</td>\n",
              "      <td>16.0</td>\n",
              "      <td>0.304167</td>\n",
              "      <td>0.430157</td>\n",
              "    </tr>\n",
              "    <tr>\n",
              "      <th>2</th>\n",
              "      <td>1.0</td>\n",
              "      <td>20.0</td>\n",
              "      <td>0.304167</td>\n",
              "      <td>0.430157</td>\n",
              "    </tr>\n",
              "    <tr>\n",
              "      <th>3</th>\n",
              "      <td>2.0</td>\n",
              "      <td>12.0</td>\n",
              "      <td>0.301389</td>\n",
              "      <td>0.426228</td>\n",
              "    </tr>\n",
              "    <tr>\n",
              "      <th>4</th>\n",
              "      <td>2.0</td>\n",
              "      <td>16.0</td>\n",
              "      <td>0.308333</td>\n",
              "      <td>0.436049</td>\n",
              "    </tr>\n",
              "    <tr>\n",
              "      <th>5</th>\n",
              "      <td>2.0</td>\n",
              "      <td>20.0</td>\n",
              "      <td>0.309722</td>\n",
              "      <td>0.438013</td>\n",
              "    </tr>\n",
              "    <tr>\n",
              "      <th>6</th>\n",
              "      <td>3.0</td>\n",
              "      <td>12.0</td>\n",
              "      <td>0.304167</td>\n",
              "      <td>0.430157</td>\n",
              "    </tr>\n",
              "    <tr>\n",
              "      <th>7</th>\n",
              "      <td>3.0</td>\n",
              "      <td>16.0</td>\n",
              "      <td>0.298611</td>\n",
              "      <td>0.422300</td>\n",
              "    </tr>\n",
              "    <tr>\n",
              "      <th>8</th>\n",
              "      <td>3.0</td>\n",
              "      <td>20.0</td>\n",
              "      <td>0.306944</td>\n",
              "      <td>0.434085</td>\n",
              "    </tr>\n",
              "  </tbody>\n",
              "</table>\n",
              "</div>\n",
              "    <div class=\"colab-df-buttons\">\n",
              "\n",
              "  <div class=\"colab-df-container\">\n",
              "    <button class=\"colab-df-convert\" onclick=\"convertToInteractive('df-1e719aff-cb94-49a0-ab60-e072fbc27cef')\"\n",
              "            title=\"Convert this dataframe to an interactive table.\"\n",
              "            style=\"display:none;\">\n",
              "\n",
              "  <svg xmlns=\"http://www.w3.org/2000/svg\" height=\"24px\" viewBox=\"0 -960 960 960\">\n",
              "    <path d=\"M120-120v-720h720v720H120Zm60-500h600v-160H180v160Zm220 220h160v-160H400v160Zm0 220h160v-160H400v160ZM180-400h160v-160H180v160Zm440 0h160v-160H620v160ZM180-180h160v-160H180v160Zm440 0h160v-160H620v160Z\"/>\n",
              "  </svg>\n",
              "    </button>\n",
              "\n",
              "  <style>\n",
              "    .colab-df-container {\n",
              "      display:flex;\n",
              "      gap: 12px;\n",
              "    }\n",
              "\n",
              "    .colab-df-convert {\n",
              "      background-color: #E8F0FE;\n",
              "      border: none;\n",
              "      border-radius: 50%;\n",
              "      cursor: pointer;\n",
              "      display: none;\n",
              "      fill: #1967D2;\n",
              "      height: 32px;\n",
              "      padding: 0 0 0 0;\n",
              "      width: 32px;\n",
              "    }\n",
              "\n",
              "    .colab-df-convert:hover {\n",
              "      background-color: #E2EBFA;\n",
              "      box-shadow: 0px 1px 2px rgba(60, 64, 67, 0.3), 0px 1px 3px 1px rgba(60, 64, 67, 0.15);\n",
              "      fill: #174EA6;\n",
              "    }\n",
              "\n",
              "    .colab-df-buttons div {\n",
              "      margin-bottom: 4px;\n",
              "    }\n",
              "\n",
              "    [theme=dark] .colab-df-convert {\n",
              "      background-color: #3B4455;\n",
              "      fill: #D2E3FC;\n",
              "    }\n",
              "\n",
              "    [theme=dark] .colab-df-convert:hover {\n",
              "      background-color: #434B5C;\n",
              "      box-shadow: 0px 1px 3px 1px rgba(0, 0, 0, 0.15);\n",
              "      filter: drop-shadow(0px 1px 2px rgba(0, 0, 0, 0.3));\n",
              "      fill: #FFFFFF;\n",
              "    }\n",
              "  </style>\n",
              "\n",
              "    <script>\n",
              "      const buttonEl =\n",
              "        document.querySelector('#df-1e719aff-cb94-49a0-ab60-e072fbc27cef button.colab-df-convert');\n",
              "      buttonEl.style.display =\n",
              "        google.colab.kernel.accessAllowed ? 'block' : 'none';\n",
              "\n",
              "      async function convertToInteractive(key) {\n",
              "        const element = document.querySelector('#df-1e719aff-cb94-49a0-ab60-e072fbc27cef');\n",
              "        const dataTable =\n",
              "          await google.colab.kernel.invokeFunction('convertToInteractive',\n",
              "                                                    [key], {});\n",
              "        if (!dataTable) return;\n",
              "\n",
              "        const docLinkHtml = 'Like what you see? Visit the ' +\n",
              "          '<a target=\"_blank\" href=https://colab.research.google.com/notebooks/data_table.ipynb>data table notebook</a>'\n",
              "          + ' to learn more about interactive tables.';\n",
              "        element.innerHTML = '';\n",
              "        dataTable['output_type'] = 'display_data';\n",
              "        await google.colab.output.renderOutput(dataTable, element);\n",
              "        const docLink = document.createElement('div');\n",
              "        docLink.innerHTML = docLinkHtml;\n",
              "        element.appendChild(docLink);\n",
              "      }\n",
              "    </script>\n",
              "  </div>\n",
              "\n",
              "\n",
              "<div id=\"df-bddef3ca-045e-40df-aa9b-5b4051a60129\">\n",
              "  <button class=\"colab-df-quickchart\" onclick=\"quickchart('df-bddef3ca-045e-40df-aa9b-5b4051a60129')\"\n",
              "            title=\"Suggest charts.\"\n",
              "            style=\"display:none;\">\n",
              "\n",
              "<svg xmlns=\"http://www.w3.org/2000/svg\" height=\"24px\"viewBox=\"0 0 24 24\"\n",
              "     width=\"24px\">\n",
              "    <g>\n",
              "        <path d=\"M19 3H5c-1.1 0-2 .9-2 2v14c0 1.1.9 2 2 2h14c1.1 0 2-.9 2-2V5c0-1.1-.9-2-2-2zM9 17H7v-7h2v7zm4 0h-2V7h2v10zm4 0h-2v-4h2v4z\"/>\n",
              "    </g>\n",
              "</svg>\n",
              "  </button>\n",
              "\n",
              "<style>\n",
              "  .colab-df-quickchart {\n",
              "      --bg-color: #E8F0FE;\n",
              "      --fill-color: #1967D2;\n",
              "      --hover-bg-color: #E2EBFA;\n",
              "      --hover-fill-color: #174EA6;\n",
              "      --disabled-fill-color: #AAA;\n",
              "      --disabled-bg-color: #DDD;\n",
              "  }\n",
              "\n",
              "  [theme=dark] .colab-df-quickchart {\n",
              "      --bg-color: #3B4455;\n",
              "      --fill-color: #D2E3FC;\n",
              "      --hover-bg-color: #434B5C;\n",
              "      --hover-fill-color: #FFFFFF;\n",
              "      --disabled-bg-color: #3B4455;\n",
              "      --disabled-fill-color: #666;\n",
              "  }\n",
              "\n",
              "  .colab-df-quickchart {\n",
              "    background-color: var(--bg-color);\n",
              "    border: none;\n",
              "    border-radius: 50%;\n",
              "    cursor: pointer;\n",
              "    display: none;\n",
              "    fill: var(--fill-color);\n",
              "    height: 32px;\n",
              "    padding: 0;\n",
              "    width: 32px;\n",
              "  }\n",
              "\n",
              "  .colab-df-quickchart:hover {\n",
              "    background-color: var(--hover-bg-color);\n",
              "    box-shadow: 0 1px 2px rgba(60, 64, 67, 0.3), 0 1px 3px 1px rgba(60, 64, 67, 0.15);\n",
              "    fill: var(--button-hover-fill-color);\n",
              "  }\n",
              "\n",
              "  .colab-df-quickchart-complete:disabled,\n",
              "  .colab-df-quickchart-complete:disabled:hover {\n",
              "    background-color: var(--disabled-bg-color);\n",
              "    fill: var(--disabled-fill-color);\n",
              "    box-shadow: none;\n",
              "  }\n",
              "\n",
              "  .colab-df-spinner {\n",
              "    border: 2px solid var(--fill-color);\n",
              "    border-color: transparent;\n",
              "    border-bottom-color: var(--fill-color);\n",
              "    animation:\n",
              "      spin 1s steps(1) infinite;\n",
              "  }\n",
              "\n",
              "  @keyframes spin {\n",
              "    0% {\n",
              "      border-color: transparent;\n",
              "      border-bottom-color: var(--fill-color);\n",
              "      border-left-color: var(--fill-color);\n",
              "    }\n",
              "    20% {\n",
              "      border-color: transparent;\n",
              "      border-left-color: var(--fill-color);\n",
              "      border-top-color: var(--fill-color);\n",
              "    }\n",
              "    30% {\n",
              "      border-color: transparent;\n",
              "      border-left-color: var(--fill-color);\n",
              "      border-top-color: var(--fill-color);\n",
              "      border-right-color: var(--fill-color);\n",
              "    }\n",
              "    40% {\n",
              "      border-color: transparent;\n",
              "      border-right-color: var(--fill-color);\n",
              "      border-top-color: var(--fill-color);\n",
              "    }\n",
              "    60% {\n",
              "      border-color: transparent;\n",
              "      border-right-color: var(--fill-color);\n",
              "    }\n",
              "    80% {\n",
              "      border-color: transparent;\n",
              "      border-right-color: var(--fill-color);\n",
              "      border-bottom-color: var(--fill-color);\n",
              "    }\n",
              "    90% {\n",
              "      border-color: transparent;\n",
              "      border-bottom-color: var(--fill-color);\n",
              "    }\n",
              "  }\n",
              "</style>\n",
              "\n",
              "  <script>\n",
              "    async function quickchart(key) {\n",
              "      const quickchartButtonEl =\n",
              "        document.querySelector('#' + key + ' button');\n",
              "      quickchartButtonEl.disabled = true;  // To prevent multiple clicks.\n",
              "      quickchartButtonEl.classList.add('colab-df-spinner');\n",
              "      try {\n",
              "        const charts = await google.colab.kernel.invokeFunction(\n",
              "            'suggestCharts', [key], {});\n",
              "      } catch (error) {\n",
              "        console.error('Error during call to suggestCharts:', error);\n",
              "      }\n",
              "      quickchartButtonEl.classList.remove('colab-df-spinner');\n",
              "      quickchartButtonEl.classList.add('colab-df-quickchart-complete');\n",
              "    }\n",
              "    (() => {\n",
              "      let quickchartButtonEl =\n",
              "        document.querySelector('#df-bddef3ca-045e-40df-aa9b-5b4051a60129 button');\n",
              "      quickchartButtonEl.style.display =\n",
              "        google.colab.kernel.accessAllowed ? 'block' : 'none';\n",
              "    })();\n",
              "  </script>\n",
              "</div>\n",
              "    </div>\n",
              "  </div>\n"
            ]
          },
          "metadata": {},
          "execution_count": 26
        }
      ],
      "source": [
        "resultados_mlpc"
      ]
    },
    {
      "cell_type": "code",
      "execution_count": 27,
      "metadata": {
        "id": "_FwrY7LFoduL",
        "colab": {
          "base_uri": "https://localhost:8080/",
          "height": 525
        },
        "outputId": "8d01aaa2-a8b5-4d40-9714-556166277921"
      },
      "outputs": [
        {
          "output_type": "execute_result",
          "data": {
            "text/plain": [
              "<seaborn.axisgrid.FacetGrid at 0x7fc34d3a2080>"
            ]
          },
          "metadata": {},
          "execution_count": 27
        },
        {
          "output_type": "display_data",
          "data": {
            "text/plain": [
              "<Figure size 606.361x500 with 1 Axes>"
            ],
            "image/png": "[encoded data removed]"
          },
          "metadata": {}
        }
      ],
      "source": [
        "# ver los resultados\n",
        "# notar como las capas ocultas y el # de neuronas influyen\n",
        "sns.relplot(data = resultados_mlpc,  x='neuronas en capas ocultas', y = 'error de prueba(media)', style= 'capas ocultas', kind = 'line')"
      ]
    },
    {
      "cell_type": "markdown",
      "metadata": {
        "id": "MGfDfjGkoduP"
      },
      "source": [
        "**recordatorio** En la practica sklearn no es una la libreria indicada para desarollar redes neuronales, para practicas mas avanzadas y realizar modelos en el \"mundo real\" [se deben usar conceptos de deep learning y una libreria llamada Keras](https://colab.research.google.com/github/lexfridman/mit-deep-learning/blob/master/tutorial_deep_learning_basics/deep_learning_basics.ipynb)."
      ]
    },
    {
      "cell_type": "code",
      "source": [
        "#@title **Pregunta 4. Respuesta abierta**\n",
        "#@markdown ¿Cuál es el problema de modelado abordado en el ejercicio MLP clasificación?\n",
        "respuesta_4 = \"busca clasificar los numeros en su categoria correspondiente\" #@param {type:\"string\"}"
      ],
      "metadata": {
        "id": "VmLSIcyQ8zRf"
      },
      "execution_count": null,
      "outputs": []
    },
    {
      "cell_type": "code",
      "source": [
        "#@title **Pregunta 5. Respuesta abierta**\n",
        "#@markdown ¿Cómo influyen las capas ocultas en el resultado del modelo?\n",
        "respuesta_5 = \"con el numero de capas cambia el error mejorando la metrica pero el numero de neuronas en cada capa dicta mas el cambio numero de neuronas\" #@param {type:\"string\"}"
      ],
      "metadata": {
        "id": "JYkoikHH854o"
      },
      "execution_count": null,
      "outputs": []
    },
    {
      "cell_type": "code",
      "source": [
        "#@title **Pregunta 6. Respuesta abierta**\n",
        "#@markdown ¿Cómo influyen el número de neuronas el resultado del modelo?\n",
        "respuesta_6 = \"el numero de neuronas mejora el resultado de la capa 1 y 3 hasta 16 neuronas en el resto empeora el erro, pero  relativamente hablando es muy poco lo que cambia en el numero de capas y neuronas\" #@param {type:\"string\"}"
      ],
      "metadata": {
        "id": "0tO1Iety8-zo"
      },
      "execution_count": 28,
      "outputs": []
    }
  ],
  "metadata": {
    "colab": {
      "provenance": [],
      "toc_visible": true,
      "include_colab_link": true
    },
    "kernelspec": {
      "display_name": "Python 3.8.10 ('udea')",
      "language": "python",
      "name": "python3"
    },
    "language_info": {
      "codemirror_mode": {
        "name": "ipython",
        "version": 3
      },
      "file_extension": ".py",
      "mimetype": "text/x-python",
      "name": "python",
      "nbconvert_exporter": "python",
      "pygments_lexer": "ipython3",
      "version": "3.8.10"
    },
    "vscode": {
      "interpreter": {
        "hash": "c216c800eb90efed5b4e7fbe9fb3a04a2ffbc3fe33e223430d52baede0ec7928"
      }
    }
  },
  "nbformat": 4,
  "nbformat_minor": 0
}